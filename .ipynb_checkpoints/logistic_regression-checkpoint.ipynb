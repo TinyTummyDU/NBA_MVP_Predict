{
 "cells": [
  {
   "cell_type": "code",
   "execution_count": 1,
   "metadata": {},
   "outputs": [],
   "source": [
    "import pandas as pd\n",
    "import math\n",
    "import csv\n",
    "import random\n",
    "import numpy as np\n",
    "from sklearn import linear_model\n",
    "from sklearn.model_selection import cross_val_score"
   ]
  },
  {
   "cell_type": "code",
   "execution_count": 3,
   "metadata": {},
   "outputs": [],
   "source": [
    "# 当每支队伍没有elo等级分时，赋予其基础elo等级分\n",
    "base_elo = 1600\n",
    "team_elos = {} \n",
    "team_stats = {}\n",
    "X = []\n",
    "y = []\n",
    "# 存放数据的目录\n",
    "folder = 'data' "
   ]
  },
  {
   "cell_type": "code",
   "execution_count": 4,
   "metadata": {},
   "outputs": [],
   "source": [
    "# 根据每支队伍的Miscellaneous Opponent，Team统计数据csv文件进行初始化\n",
    "def initialize_data(Mstat, Ostat, Tstat):\n",
    "    new_Mstat = Mstat.drop(['Rk', 'Arena'], axis=1)\n",
    "    new_Ostat = Ostat.drop(['Rk', 'G', 'MP'], axis=1)\n",
    "    new_Tstat = Tstat.drop(['Rk', 'G', 'MP'], axis=1)\n",
    "\n",
    "    team_stats1 = pd.merge(new_Mstat, new_Ostat, how='left', on='Team')\n",
    "    team_stats1 = pd.merge(team_stats1, new_Tstat, how='left', on='Team')\n",
    "    return team_stats1.set_index('Team', inplace=False, drop=True)"
   ]
  },
  {
   "cell_type": "code",
   "execution_count": 5,
   "metadata": {},
   "outputs": [],
   "source": [
    "# 获取每支队伍的`Elo Score`等级分函数，当在开始没有等级分时，将其赋予初始`base_elo`值：\n",
    "def get_elo(team):\n",
    "    try:\n",
    "        return team_elos[team]\n",
    "    except:\n",
    "        # 当最初没有elo时，给每个队伍最初赋base_elo\n",
    "        team_elos[team] = base_elo  #1600\n",
    "        return team_elos[team]"
   ]
  },
  {
   "cell_type": "code",
   "execution_count": 6,
   "metadata": {},
   "outputs": [],
   "source": [
    "# 定义计算每支球队的Elo等级分函数\n",
    "# 计算每个球队的elo值\n",
    "def calc_elo(win_team, lose_team):\n",
    "    winner_rank = get_elo(win_team)\n",
    "    loser_rank = get_elo(lose_team)\n",
    "    rank_diff = winner_rank - loser_rank\n",
    "    exp = (rank_diff  * -1) / 400\n",
    "    odds = 1 / (1 + math.pow(10, exp))\n",
    "    # 根据rank级别修改K值\n",
    "    if winner_rank < 2100:\n",
    "        k = 32\n",
    "    elif winner_rank >= 2100 and winner_rank < 2400:\n",
    "        k = 24\n",
    "    else:\n",
    "        k = 16\n",
    "    # 更新 rank 数值\n",
    "    new_winner_rank = round(winner_rank + (k * (1 - odds)))      \n",
    "    new_loser_rank = round(loser_rank + (k * (0 - odds)))\n",
    "    return new_winner_rank, new_loser_rank\n"
   ]
  },
  {
   "cell_type": "code",
   "execution_count": 7,
   "metadata": {},
   "outputs": [],
   "source": [
    "#基于我们初始好的统计数据，及每支队伍的 **Elo score** 计算结果，建立对应 2015~2016 年常规赛和季后赛中每场比赛的数据集\n",
    "# （在主客场比赛时，我们认为主场作战的队伍更加有优势一点，因此会给主场作战队伍相应加上 100 等级分）：\n",
    "def  build_dataSet(all_data):\n",
    "    print(\"Building data set..\")\n",
    "    X = []\n",
    "    skip = 0\n",
    "    for index, row in all_data.iterrows():\n",
    "        Wteam = row['WTeam']\n",
    "        Lteam = row['LTeam']\n",
    "        #获取最初的elo或是每个队伍最初的elo值\n",
    "        team1_elo = get_elo(Wteam)\n",
    "        team2_elo = get_elo(Lteam)\n",
    "\n",
    "        # 给主场比赛的队伍加上100的elo值\n",
    "        if row['WLoc'] == 'H':\n",
    "            team1_elo += 100\n",
    "        else:\n",
    "            team2_elo += 100\n",
    "\n",
    "        # 把elo当为评价每个队伍的第一个特征值\n",
    "        team1_features = [team1_elo]\n",
    "        team2_features = [team2_elo]\n",
    "\n",
    "        # 添加我们从basketball reference.com获得的每个队伍的统计信息\n",
    "        for key, value in team_stats.loc[Wteam].iteritems():\n",
    "            team1_features.append(value)\n",
    "        for key, value in team_stats.loc[Lteam].iteritems():\n",
    "            team2_features.append(value)\n",
    "\n",
    "        # 将两支队伍的特征值随机的分配在每场比赛数据的左右两侧\n",
    "        # 并将对应的0/1赋给y值\n",
    "        if random.random() > 0.5:\n",
    "            X.append(team1_features + team2_features)\n",
    "            y.append(0)\n",
    "        else:\n",
    "            X.append(team2_features + team1_features)\n",
    "            y.append(1)\n",
    "\n",
    "        if skip == 0:\n",
    "            print('X',X)\n",
    "            skip = 1\n",
    "\n",
    "        # 根据这场比赛的数据更新队伍的elo值\n",
    "        new_winner_rank, new_loser_rank = calc_elo(Wteam, Lteam)\n",
    "        team_elos[Wteam] = new_winner_rank\n",
    "        team_elos[Lteam] = new_loser_rank\n",
    "\n",
    "    return np.nan_to_num(X), y"
   ]
  },
  {
   "cell_type": "code",
   "execution_count": 35,
   "metadata": {},
   "outputs": [
    {
     "name": "stdout",
     "output_type": "stream",
     "text": [
      "<class 'pandas.core.frame.DataFrame'>\n",
      "(30, 67)\n",
      "Age       27.9\n",
      "W         43.0\n",
      "L         39.0\n",
      "PW        39.0\n",
      "PL        43.0\n",
      "         ...  \n",
      "STL_y      8.2\n",
      "BLK_y      4.8\n",
      "TOV_y     15.8\n",
      "PF_y      18.2\n",
      "PTS_y    103.2\n",
      "Name: Atlanta Hawks*, Length: 67, dtype: float64\n",
      "<class 'pandas.core.series.Series'>\n"
     ]
    }
   ],
   "source": [
    "# A = np.loadtxt(open(\"data_homework_4/A_40_20.csv\",\"rb\"),delimiter=\",\")\n",
    "Mstat = pd.read_csv(\"16-17/16_17_Miscellaneous_Stats.csv\",delimiter = \",\")\n",
    "Ostat = pd.read_csv(\"16-17/16_17_Opponent_Per_Game_Stats.csv\",delimiter = \",\")\n",
    "Tstat = pd.read_csv(\"16-17/16_17_Team_Per_Game_Stats.csv\",delimiter = \",\")\n",
    "\n",
    "team_stats = initialize_data(Mstat, Ostat, Tstat)\n",
    "print(type(team_stats))\n",
    "print(team_stats.shape)\n",
    "print(team_stats.loc[\"Atlanta Hawks*\"])\n",
    "print(type(team_stats.loc[\"Atlanta Hawks*\"]))\n",
    "#     result_data = pd.read_csv(\"16-17/16_17_Schedual.csv\"\")\n",
    "#     X, y = build_dataSet(result_data)\n",
    "    \n",
    "    \n",
    "                              \n",
    "#     # 训练网络模型\n",
    "#     print(\"Fitting on %d game samples..\" % len(X))\n",
    "\n",
    "#     model = linear_model.LogisticRegression()\n",
    "#     model.fit(X, y)\n",
    "\n",
    "#     # 利用10折交叉验证计算训练正确率\n",
    "#     print(\"Doing cross-validation..\")\n",
    "#     print(cross_val_score(model, X, y, cv = 10, scoring='accuracy', n_jobs=-1).mean())"
   ]
  },
  {
   "cell_type": "code",
   "execution_count": null,
   "metadata": {},
   "outputs": [],
   "source": []
  }
 ],
 "metadata": {
  "kernelspec": {
   "display_name": "Python 3",
   "language": "python",
   "name": "python3"
  },
  "language_info": {
   "codemirror_mode": {
    "name": "ipython",
    "version": 3
   },
   "file_extension": ".py",
   "mimetype": "text/x-python",
   "name": "python",
   "nbconvert_exporter": "python",
   "pygments_lexer": "ipython3",
   "version": "3.7.6"
  }
 },
 "nbformat": 4,
 "nbformat_minor": 4
}
